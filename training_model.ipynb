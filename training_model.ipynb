{
 "cells": [
  {
   "cell_type": "markdown",
   "source": [
    "# Phishing website detector model training.\n",
    "Phishing is one of the major problems faced by cyber-world and leads to financial losses for both industries and individuals.\n",
    "Detection of phishing attack with high accuracy has always been a challenging issue. One of the effective way of checking\n",
    "if a website/url is legitimate, or a scam is by checking its url.\n",
    "\n",
    "The UCI Machine learning Repository has such a dataset which consists of features based on the urls.\n",
    "The dataset I will be using is the [Phishing Websites](https://archive.ics.uci.edu/ml/datasets/Phishing+Websites) dataset from the\n",
    "UCI Machine learning Repository."
   ],
   "metadata": {
    "collapsed": false,
    "pycharm": {
     "name": "#%% md\n"
    }
   }
  },
  {
   "cell_type": "code",
   "execution_count": 31,
   "metadata": {
    "collapsed": true
   },
   "outputs": [],
   "source": [
    "# Importing necessary libraries\n",
    "import pandas as pd\n",
    "%matplotlib inline\n",
    "import matplotlib.pyplot as plt"
   ]
  },
  {
   "cell_type": "code",
   "execution_count": 32,
   "outputs": [
    {
     "data": {
      "text/plain": "   id  having_IP_Address  URL_Length  Shortining_Service  having_At_Symbol  \\\n0   1                 -1           1                   1                 1   \n1   2                  1           1                   1                 1   \n2   3                  1           0                   1                 1   \n3   4                  1           0                   1                 1   \n4   5                  1           0                  -1                 1   \n\n   double_slash_redirecting  Prefix_Suffix  having_Sub_Domain  SSLfinal_State  \\\n0                        -1             -1                 -1              -1   \n1                         1             -1                  0               1   \n2                         1             -1                 -1              -1   \n3                         1             -1                 -1              -1   \n4                         1             -1                  1               1   \n\n   Domain_registeration_length  ...  popUpWidnow  Iframe  age_of_domain  \\\n0                           -1  ...            1       1             -1   \n1                           -1  ...            1       1             -1   \n2                           -1  ...            1       1              1   \n3                            1  ...            1       1             -1   \n4                           -1  ...           -1       1             -1   \n\n   DNSRecord  web_traffic  Page_Rank  Google_Index  Links_pointing_to_page  \\\n0         -1           -1         -1             1                       1   \n1         -1            0         -1             1                       1   \n2         -1            1         -1             1                       0   \n3         -1            1         -1             1                      -1   \n4         -1            0         -1             1                       1   \n\n   Statistical_report  Result  \n0                  -1      -1  \n1                   1      -1  \n2                  -1      -1  \n3                   1      -1  \n4                   1       1  \n\n[5 rows x 32 columns]",
      "text/html": "<div>\n<style scoped>\n    .dataframe tbody tr th:only-of-type {\n        vertical-align: middle;\n    }\n\n    .dataframe tbody tr th {\n        vertical-align: top;\n    }\n\n    .dataframe thead th {\n        text-align: right;\n    }\n</style>\n<table border=\"1\" class=\"dataframe\">\n  <thead>\n    <tr style=\"text-align: right;\">\n      <th></th>\n      <th>id</th>\n      <th>having_IP_Address</th>\n      <th>URL_Length</th>\n      <th>Shortining_Service</th>\n      <th>having_At_Symbol</th>\n      <th>double_slash_redirecting</th>\n      <th>Prefix_Suffix</th>\n      <th>having_Sub_Domain</th>\n      <th>SSLfinal_State</th>\n      <th>Domain_registeration_length</th>\n      <th>...</th>\n      <th>popUpWidnow</th>\n      <th>Iframe</th>\n      <th>age_of_domain</th>\n      <th>DNSRecord</th>\n      <th>web_traffic</th>\n      <th>Page_Rank</th>\n      <th>Google_Index</th>\n      <th>Links_pointing_to_page</th>\n      <th>Statistical_report</th>\n      <th>Result</th>\n    </tr>\n  </thead>\n  <tbody>\n    <tr>\n      <th>0</th>\n      <td>1</td>\n      <td>-1</td>\n      <td>1</td>\n      <td>1</td>\n      <td>1</td>\n      <td>-1</td>\n      <td>-1</td>\n      <td>-1</td>\n      <td>-1</td>\n      <td>-1</td>\n      <td>...</td>\n      <td>1</td>\n      <td>1</td>\n      <td>-1</td>\n      <td>-1</td>\n      <td>-1</td>\n      <td>-1</td>\n      <td>1</td>\n      <td>1</td>\n      <td>-1</td>\n      <td>-1</td>\n    </tr>\n    <tr>\n      <th>1</th>\n      <td>2</td>\n      <td>1</td>\n      <td>1</td>\n      <td>1</td>\n      <td>1</td>\n      <td>1</td>\n      <td>-1</td>\n      <td>0</td>\n      <td>1</td>\n      <td>-1</td>\n      <td>...</td>\n      <td>1</td>\n      <td>1</td>\n      <td>-1</td>\n      <td>-1</td>\n      <td>0</td>\n      <td>-1</td>\n      <td>1</td>\n      <td>1</td>\n      <td>1</td>\n      <td>-1</td>\n    </tr>\n    <tr>\n      <th>2</th>\n      <td>3</td>\n      <td>1</td>\n      <td>0</td>\n      <td>1</td>\n      <td>1</td>\n      <td>1</td>\n      <td>-1</td>\n      <td>-1</td>\n      <td>-1</td>\n      <td>-1</td>\n      <td>...</td>\n      <td>1</td>\n      <td>1</td>\n      <td>1</td>\n      <td>-1</td>\n      <td>1</td>\n      <td>-1</td>\n      <td>1</td>\n      <td>0</td>\n      <td>-1</td>\n      <td>-1</td>\n    </tr>\n    <tr>\n      <th>3</th>\n      <td>4</td>\n      <td>1</td>\n      <td>0</td>\n      <td>1</td>\n      <td>1</td>\n      <td>1</td>\n      <td>-1</td>\n      <td>-1</td>\n      <td>-1</td>\n      <td>1</td>\n      <td>...</td>\n      <td>1</td>\n      <td>1</td>\n      <td>-1</td>\n      <td>-1</td>\n      <td>1</td>\n      <td>-1</td>\n      <td>1</td>\n      <td>-1</td>\n      <td>1</td>\n      <td>-1</td>\n    </tr>\n    <tr>\n      <th>4</th>\n      <td>5</td>\n      <td>1</td>\n      <td>0</td>\n      <td>-1</td>\n      <td>1</td>\n      <td>1</td>\n      <td>-1</td>\n      <td>1</td>\n      <td>1</td>\n      <td>-1</td>\n      <td>...</td>\n      <td>-1</td>\n      <td>1</td>\n      <td>-1</td>\n      <td>-1</td>\n      <td>0</td>\n      <td>-1</td>\n      <td>1</td>\n      <td>1</td>\n      <td>1</td>\n      <td>1</td>\n    </tr>\n  </tbody>\n</table>\n<p>5 rows × 32 columns</p>\n</div>"
     },
     "execution_count": 32,
     "metadata": {},
     "output_type": "execute_result"
    }
   ],
   "source": [
    "# importing the dataset into a pandas dataframe\n",
    "DATA_DIR = 'dataset/csv_result-Training Dataset.csv'\n",
    "\n",
    "phishing_df = pd.read_csv(DATA_DIR)\n",
    "phishing_df.head()"
   ],
   "metadata": {
    "collapsed": false,
    "pycharm": {
     "name": "#%%\n"
    }
   }
  },
  {
   "cell_type": "code",
   "execution_count": 33,
   "outputs": [
    {
     "name": "stdout",
     "output_type": "stream",
     "text": [
      "<class 'pandas.core.frame.DataFrame'>\n",
      "RangeIndex: 11055 entries, 0 to 11054\n",
      "Data columns (total 32 columns):\n",
      " #   Column                       Non-Null Count  Dtype\n",
      "---  ------                       --------------  -----\n",
      " 0   id                           11055 non-null  int64\n",
      " 1   having_IP_Address            11055 non-null  int64\n",
      " 2   URL_Length                   11055 non-null  int64\n",
      " 3   Shortining_Service           11055 non-null  int64\n",
      " 4   having_At_Symbol             11055 non-null  int64\n",
      " 5   double_slash_redirecting     11055 non-null  int64\n",
      " 6   Prefix_Suffix                11055 non-null  int64\n",
      " 7   having_Sub_Domain            11055 non-null  int64\n",
      " 8   SSLfinal_State               11055 non-null  int64\n",
      " 9   Domain_registeration_length  11055 non-null  int64\n",
      " 10  Favicon                      11055 non-null  int64\n",
      " 11  port                         11055 non-null  int64\n",
      " 12  HTTPS_token                  11055 non-null  int64\n",
      " 13  Request_URL                  11055 non-null  int64\n",
      " 14  URL_of_Anchor                11055 non-null  int64\n",
      " 15  Links_in_tags                11055 non-null  int64\n",
      " 16  SFH                          11055 non-null  int64\n",
      " 17  Submitting_to_email          11055 non-null  int64\n",
      " 18  Abnormal_URL                 11055 non-null  int64\n",
      " 19  Redirect                     11055 non-null  int64\n",
      " 20  on_mouseover                 11055 non-null  int64\n",
      " 21  RightClick                   11055 non-null  int64\n",
      " 22  popUpWidnow                  11055 non-null  int64\n",
      " 23  Iframe                       11055 non-null  int64\n",
      " 24  age_of_domain                11055 non-null  int64\n",
      " 25  DNSRecord                    11055 non-null  int64\n",
      " 26  web_traffic                  11055 non-null  int64\n",
      " 27  Page_Rank                    11055 non-null  int64\n",
      " 28  Google_Index                 11055 non-null  int64\n",
      " 29  Links_pointing_to_page       11055 non-null  int64\n",
      " 30  Statistical_report           11055 non-null  int64\n",
      " 31  Result                       11055 non-null  int64\n",
      "dtypes: int64(32)\n",
      "memory usage: 2.7 MB\n"
     ]
    }
   ],
   "source": [
    "# looking at all the attributes of the dataset\n",
    "phishing_df.info()\n"
   ],
   "metadata": {
    "collapsed": false,
    "pycharm": {
     "name": "#%%\n"
    }
   }
  },
  {
   "cell_type": "code",
   "execution_count": 34,
   "outputs": [],
   "source": [
    "# creating a list of attributes that will be used for training\n",
    "final_df_columns = [\n",
    "    \"having_IP_Address\",\n",
    "    \"URL_Length\",\n",
    "    \"Shortining_Service\",\n",
    "    \"having_At_Symbol\",\n",
    "    \"double_slash_redirecting\",\n",
    "    \"Prefix_Suffix\",\n",
    "    \"having_Sub_Domain\",\n",
    "    \"SSLfinal_State\",\n",
    "    \"Domain_registeration_length\",\n",
    "    \"HTTPS_token\",\n",
    "    \"URL_of_Anchor\",\n",
    "    \"Links_in_tags\",\n",
    "    \"Abnormal_URL\",\n",
    "    \"Redirect\",\n",
    "    \"RightClick\",\n",
    "    \"Iframe\",\n",
    "    \"age_of_domain\",\n",
    "    \"DNSRecord\",\n",
    "    \"web_traffic\",\n",
    "    \"Statistical_report\",\n",
    "    \"Result\"\n",
    "]"
   ],
   "metadata": {
    "collapsed": false,
    "pycharm": {
     "name": "#%%\n"
    }
   }
  },
  {
   "cell_type": "code",
   "execution_count": 35,
   "outputs": [
    {
     "name": "stdout",
     "output_type": "stream",
     "text": [
      "<class 'pandas.core.frame.DataFrame'>\n",
      "RangeIndex: 11055 entries, 0 to 11054\n",
      "Data columns (total 21 columns):\n",
      " #   Column                       Non-Null Count  Dtype\n",
      "---  ------                       --------------  -----\n",
      " 0   having_IP_Address            11055 non-null  int64\n",
      " 1   URL_Length                   11055 non-null  int64\n",
      " 2   Shortining_Service           11055 non-null  int64\n",
      " 3   having_At_Symbol             11055 non-null  int64\n",
      " 4   double_slash_redirecting     11055 non-null  int64\n",
      " 5   Prefix_Suffix                11055 non-null  int64\n",
      " 6   having_Sub_Domain            11055 non-null  int64\n",
      " 7   SSLfinal_State               11055 non-null  int64\n",
      " 8   Domain_registeration_length  11055 non-null  int64\n",
      " 9   HTTPS_token                  11055 non-null  int64\n",
      " 10  URL_of_Anchor                11055 non-null  int64\n",
      " 11  Links_in_tags                11055 non-null  int64\n",
      " 12  Abnormal_URL                 11055 non-null  int64\n",
      " 13  Redirect                     11055 non-null  int64\n",
      " 14  RightClick                   11055 non-null  int64\n",
      " 15  Iframe                       11055 non-null  int64\n",
      " 16  age_of_domain                11055 non-null  int64\n",
      " 17  DNSRecord                    11055 non-null  int64\n",
      " 18  web_traffic                  11055 non-null  int64\n",
      " 19  Statistical_report           11055 non-null  int64\n",
      " 20  Result                       11055 non-null  int64\n",
      "dtypes: int64(21)\n",
      "memory usage: 1.8 MB\n"
     ]
    }
   ],
   "source": [
    "# discarding attributes which will not be used for training\n",
    "mod_df = phishing_df[phishing_df.columns.intersection(final_df_columns)]\n",
    "mod_df.info()"
   ],
   "metadata": {
    "collapsed": false,
    "pycharm": {
     "name": "#%%\n"
    }
   }
  },
  {
   "cell_type": "code",
   "execution_count": 36,
   "outputs": [],
   "source": [
    "# Function to plot bar graph\n",
    "def plot_bar_graph(title,xlabel,ylabel,X,y,colors,figsize,width):\n",
    "    fig = plt.figure(figsize=figsize)\n",
    "    ax = fig.add_axes([0,0,1,1])\n",
    "    plt.title(title)\n",
    "    plt.xlabel(xlabel)\n",
    "    plt.ylabel(ylabel)\n",
    "    ax.bar(X,y,color=colors,width=width)\n",
    "    plt.show()"
   ],
   "metadata": {
    "collapsed": false,
    "pycharm": {
     "name": "#%%\n"
    }
   }
  },
  {
   "cell_type": "code",
   "execution_count": 37,
   "outputs": [
    {
     "data": {
      "text/plain": " 1    6157\n-1    4898\nName: Result, dtype: int64"
     },
     "execution_count": 37,
     "metadata": {},
     "output_type": "execute_result"
    }
   ],
   "source": [
    "# value counts in \"Result\"\n",
    "mod_df[\"Result\"].value_counts()"
   ],
   "metadata": {
    "collapsed": false,
    "pycharm": {
     "name": "#%%\n"
    }
   }
  },
  {
   "cell_type": "code",
   "execution_count": 38,
   "outputs": [
    {
     "data": {
      "text/plain": "<Figure size 360x432 with 1 Axes>",
      "image/png": "[encoded data removed]"
     },
     "metadata": {
      "needs_background": "light"
     },
     "output_type": "display_data"
    }
   ],
   "source": [
    "result_labels = [\"Legitimate(1)\", \"Phishing(-1)\"]\n",
    "results = phishing_df.Result.value_counts()\n",
    "my_colors = ['m', 'c']\n",
    "\n",
    "# plotting how many instances of legitimate(1) and Phishing(-1) we have.\n",
    "plot_bar_graph(title=\"Value counts of Result\", xlabel=\"Type of values\", ylabel=\"Number of values\", X=result_labels,y=results,colors=my_colors,figsize=(5,6),width=0.4)"
   ],
   "metadata": {
    "collapsed": false,
    "pycharm": {
     "name": "#%%\n"
    }
   }
  },
  {
   "cell_type": "code",
   "execution_count": 39,
   "outputs": [],
   "source": [
    "# creating the train and test set\n",
    "from sklearn.model_selection import train_test_split\n",
    "\n",
    "train_set, test_set = train_test_split(mod_df, test_size=0.2, random_state=42)"
   ],
   "metadata": {
    "collapsed": false,
    "pycharm": {
     "name": "#%%\n"
    }
   }
  },
  {
   "cell_type": "code",
   "execution_count": 40,
   "outputs": [
    {
     "name": "stdout",
     "output_type": "stream",
     "text": [
      "<class 'pandas.core.frame.DataFrame'>\n",
      "Int64Index: 8844 entries, 480 to 7270\n",
      "Data columns (total 20 columns):\n",
      " #   Column                       Non-Null Count  Dtype\n",
      "---  ------                       --------------  -----\n",
      " 0   having_IP_Address            8844 non-null   int64\n",
      " 1   URL_Length                   8844 non-null   int64\n",
      " 2   Shortining_Service           8844 non-null   int64\n",
      " 3   having_At_Symbol             8844 non-null   int64\n",
      " 4   double_slash_redirecting     8844 non-null   int64\n",
      " 5   Prefix_Suffix                8844 non-null   int64\n",
      " 6   having_Sub_Domain            8844 non-null   int64\n",
      " 7   SSLfinal_State               8844 non-null   int64\n",
      " 8   Domain_registeration_length  8844 non-null   int64\n",
      " 9   HTTPS_token                  8844 non-null   int64\n",
      " 10  URL_of_Anchor                8844 non-null   int64\n",
      " 11  Links_in_tags                8844 non-null   int64\n",
      " 12  Abnormal_URL                 8844 non-null   int64\n",
      " 13  Redirect                     8844 non-null   int64\n",
      " 14  RightClick                   8844 non-null   int64\n",
      " 15  Iframe                       8844 non-null   int64\n",
      " 16  age_of_domain                8844 non-null   int64\n",
      " 17  DNSRecord                    8844 non-null   int64\n",
      " 18  web_traffic                  8844 non-null   int64\n",
      " 19  Statistical_report           8844 non-null   int64\n",
      "dtypes: int64(20)\n",
      "memory usage: 1.4 MB\n"
     ]
    }
   ],
   "source": [
    "# creating the X and y for training\n",
    "# X are the attributes to be trained on\n",
    "# y is the result to be predicted\n",
    "\n",
    "X_train = train_set.drop(\"Result\", axis=1)\n",
    "y_train = train_set[\"Result\"].copy()\n",
    "\n",
    "X_train.info()"
   ],
   "metadata": {
    "collapsed": false,
    "pycharm": {
     "name": "#%%\n"
    }
   }
  },
  {
   "cell_type": "code",
   "execution_count": 41,
   "outputs": [],
   "source": [
    "# importing the models which need to be tested which will help to find which one performs best for this dataset.\n",
    "from sklearn.neural_network import MLPClassifier\n",
    "from sklearn.neighbors import KNeighborsClassifier\n",
    "from sklearn.svm import SVC\n",
    "from sklearn.tree import DecisionTreeClassifier\n",
    "from sklearn.ensemble import RandomForestClassifier, AdaBoostClassifier\n",
    "from sklearn.metrics import precision_score, recall_score,f1_score,roc_auc_score\n",
    "from sklearn.model_selection import cross_val_predict\n",
    "\n",
    "# list of all the classifier models which will be used for training\n",
    "classifiers = [\n",
    "    KNeighborsClassifier(3),\n",
    "    SVC(kernel=\"linear\", C=0.025),\n",
    "    SVC(gamma=2, C=1),\n",
    "    DecisionTreeClassifier(max_depth=5),\n",
    "    RandomForestClassifier(max_depth=5, n_estimators=10, max_features=1),\n",
    "    MLPClassifier(alpha=1, max_iter=1000),\n",
    "    AdaBoostClassifier(),\n",
    "]\n",
    "\n",
    "# list of all the names of the models\n",
    "names = [\"Nearest Neighbors\", \"Linear SVM\", \"RBF SVM\",\n",
    "         \"Decision Tree\", \"Random Forest\", \"Neural Net\", \"AdaBoost\"]\n",
    "\n",
    "models = zip(classifiers,names)\n",
    "\n",
    "def get_model_scores(model,name,X,y):\n",
    "\n",
    "    \"\"\"\n",
    "    Function that calculates scores of the model.\n",
    "\n",
    "    :param model: model for which the scores need to be generated\n",
    "    :param name: name of the model\n",
    "    :param X: attributes the model should be evaluated on\n",
    "    :param y: result of the attributes which need to be predicted\n",
    "    :return: scores of the model\n",
    "    \"\"\"\n",
    "\n",
    "    # predictions on the train set using cross validation\n",
    "    y_train_pred = cross_val_predict(model, X, y, cv=10)\n",
    "\n",
    "    # calculating precision\n",
    "    precision = precision_score(y, y_train_pred)\n",
    "    # calculating recall\n",
    "    recall = recall_score(y, y_train_pred)\n",
    "    # calculating f1 score\n",
    "    f1 = f1_score(y,y_train_pred)\n",
    "    # calculating roc_Auc_score\n",
    "    roc_auc = roc_auc_score(y, y_train_pred)\n",
    "    # calculating accuracy of the model\n",
    "    accuracy = model.score(X,y)\n",
    "\n",
    "    return {\n",
    "        \"model_name\": name,\n",
    "        \"accuracy\": accuracy,\n",
    "        \"precision\": precision,\n",
    "        \"recall\": recall,\n",
    "        \"f1\": f1,\n",
    "        \"roc_auc_score\": roc_auc,\n",
    "\n",
    "    }\n",
    "\n",
    "def train_model_for_scores(model,name,X,y):\n",
    "\n",
    "    \"\"\"\n",
    "    Function that trains and then returns the scores of the model\n",
    "    :param model: model for which the scores need to be generated\n",
    "    :param name: name of the model\n",
    "    :param X: attributes the model should be evaluated on\n",
    "    :param y: result of the attributes which need to be predicted\n",
    "    :return: returns scores of model after training\n",
    "    \"\"\"\n",
    "\n",
    "    model.fit(X,y)\n",
    "    score = get_model_scores(model,name,X,y)\n",
    "    return score\n",
    "\n",
    "all_model_scores = []\n",
    "\n",
    "# training the models and getting all their scores for comparison\n",
    "for model,name in models:\n",
    "\n",
    "    model_score = train_model_for_scores(model,name,X_train,y_train)\n",
    "    all_model_scores.append(model_score)\n"
   ],
   "metadata": {
    "collapsed": false,
    "pycharm": {
     "name": "#%%\n"
    }
   }
  },
  {
   "cell_type": "code",
   "execution_count": 42,
   "outputs": [
    {
     "data": {
      "text/plain": "          model_name  accuracy  precision    recall        f1  roc_auc_score\n0  Nearest Neighbors  0.961895   0.939822  0.949408  0.944591       0.936906\n1         Linear SVM  0.915875   0.905896  0.946552  0.925778       0.912140\n2            RBF SVM  0.975237   0.919984  0.938188  0.928997       0.918359\n3      Decision Tree  0.920511   0.903213  0.963280  0.932280       0.917460\n4      Random Forest  0.907960   0.860264  0.955732  0.905489       0.881342\n5         Neural Net  0.931479   0.926824  0.950836  0.938677       0.928741\n6           AdaBoost  0.929331   0.921662  0.950428  0.935824       0.924986",
      "text/html": "<div>\n<style scoped>\n    .dataframe tbody tr th:only-of-type {\n        vertical-align: middle;\n    }\n\n    .dataframe tbody tr th {\n        vertical-align: top;\n    }\n\n    .dataframe thead th {\n        text-align: right;\n    }\n</style>\n<table border=\"1\" class=\"dataframe\">\n  <thead>\n    <tr style=\"text-align: right;\">\n      <th></th>\n      <th>model_name</th>\n      <th>accuracy</th>\n      <th>precision</th>\n      <th>recall</th>\n      <th>f1</th>\n      <th>roc_auc_score</th>\n    </tr>\n  </thead>\n  <tbody>\n    <tr>\n      <th>0</th>\n      <td>Nearest Neighbors</td>\n      <td>0.961895</td>\n      <td>0.939822</td>\n      <td>0.949408</td>\n      <td>0.944591</td>\n      <td>0.936906</td>\n    </tr>\n    <tr>\n      <th>1</th>\n      <td>Linear SVM</td>\n      <td>0.915875</td>\n      <td>0.905896</td>\n      <td>0.946552</td>\n      <td>0.925778</td>\n      <td>0.912140</td>\n    </tr>\n    <tr>\n      <th>2</th>\n      <td>RBF SVM</td>\n      <td>0.975237</td>\n      <td>0.919984</td>\n      <td>0.938188</td>\n      <td>0.928997</td>\n      <td>0.918359</td>\n    </tr>\n    <tr>\n      <th>3</th>\n      <td>Decision Tree</td>\n      <td>0.920511</td>\n      <td>0.903213</td>\n      <td>0.963280</td>\n      <td>0.932280</td>\n      <td>0.917460</td>\n    </tr>\n    <tr>\n      <th>4</th>\n      <td>Random Forest</td>\n      <td>0.907960</td>\n      <td>0.860264</td>\n      <td>0.955732</td>\n      <td>0.905489</td>\n      <td>0.881342</td>\n    </tr>\n    <tr>\n      <th>5</th>\n      <td>Neural Net</td>\n      <td>0.931479</td>\n      <td>0.926824</td>\n      <td>0.950836</td>\n      <td>0.938677</td>\n      <td>0.928741</td>\n    </tr>\n    <tr>\n      <th>6</th>\n      <td>AdaBoost</td>\n      <td>0.929331</td>\n      <td>0.921662</td>\n      <td>0.950428</td>\n      <td>0.935824</td>\n      <td>0.924986</td>\n    </tr>\n  </tbody>\n</table>\n</div>"
     },
     "execution_count": 42,
     "metadata": {},
     "output_type": "execute_result"
    }
   ],
   "source": [
    "# converting model scores to DataFrame for easy readability\n",
    "model_df = pd.DataFrame(all_model_scores)\n",
    "model_df"
   ],
   "metadata": {
    "collapsed": false,
    "pycharm": {
     "name": "#%%\n"
    }
   }
  },
  {
   "cell_type": "code",
   "execution_count": 43,
   "outputs": [
    {
     "data": {
      "text/plain": "<Figure size 864x504 with 1 Axes>",
      "image/png": "[encoded data removed]"
     },
     "metadata": {
      "needs_background": "light"
     },
     "output_type": "display_data"
    }
   ],
   "source": [
    "colors = ['tab:blue','tab:orange','tab:green','tab:red','tab:purple','tab:brown','tab:pink','tab:gray','tab:olive','tab:cyan']\n",
    "\n",
    "# plotting models according to their ROC AUC Scores\n",
    "plot_bar_graph(title=\"ROC AUC Scores of models\", xlabel=\"Model Names\", ylabel=\"ROC AUC Score\", X=model_df[\"model_name\"], y=model_df[\"roc_auc_score\"].sort_values(ascending=False), colors=colors,figsize=(12,7), width=0.4)"
   ],
   "metadata": {
    "collapsed": false,
    "pycharm": {
     "name": "#%%\n"
    }
   }
  },
  {
   "cell_type": "markdown",
   "source": [
    "# Results:\n",
    "From the different models trained above we can see that all of them give similar results based on the f1 score and roc_auc score\n",
    "roc_auc score, but the KNeighborsClassifier performed the best, so it will be chosen as the final model to be trained.\n"
   ],
   "metadata": {
    "collapsed": false,
    "pycharm": {
     "name": "#%% md\n"
    }
   }
  },
  {
   "cell_type": "code",
   "execution_count": 44,
   "outputs": [],
   "source": [
    "def show_scores(scores):\n",
    "    \"\"\"\n",
    "    Function that prints the dict of scores\n",
    "    :param scores: scores of the model\n",
    "    \"\"\"\n",
    "    for key,value in scores.items():\n",
    "            print(key + \" : \" + str(value))"
   ],
   "metadata": {
    "collapsed": false,
    "pycharm": {
     "name": "#%%\n"
    }
   }
  },
  {
   "cell_type": "code",
   "execution_count": 45,
   "outputs": [
    {
     "name": "stdout",
     "output_type": "stream",
     "text": [
      "model_name : K Nearest Neighbors\n",
      "accuracy : 0.9733152419719584\n",
      "precision : 0.9461974110032363\n",
      "recall : 0.9543043655650755\n",
      "f1 : 0.9502335973999595\n",
      "roc_auc_score : 0.9434129641118123\n"
     ]
    }
   ],
   "source": [
    "# training a KNN model for training as it gave the best result\n",
    "knn_clf = KNeighborsClassifier(n_neighbors=3,weights='distance', algorithm='auto')\n",
    "\n",
    "knn_scores = train_model_for_scores(knn_clf,'K Nearest Neighbors', X_train, y_train)\n",
    "\n",
    "show_scores(knn_scores)\n"
   ],
   "metadata": {
    "collapsed": false,
    "pycharm": {
     "name": "#%%\n"
    }
   }
  },
  {
   "cell_type": "code",
   "execution_count": 46,
   "outputs": [
    {
     "data": {
      "text/plain": "GridSearchCV(cv=10, estimator=KNeighborsClassifier(),\n             param_grid=[{'algorithm': ['auto', 'ball_tree'],\n                          'leaf_size': [10, 20, 25, 30, 35, 40],\n                          'n_neighbors': [2, 3, 4, 5, 6],\n                          'weights': ['uniform']},\n                         {'algorithm': ['kd_tree', 'brute'],\n                          'leaf_size': [30, 35, 40], 'n_neighbors': [4, 5, 6],\n                          'weights': ['distance']}],\n             return_train_score=True, scoring='roc_auc')"
     },
     "execution_count": 46,
     "metadata": {},
     "output_type": "execute_result"
    }
   ],
   "source": [
    "# using GridSearchCV to further fine tune the model\n",
    "from sklearn.model_selection import GridSearchCV\n",
    "\n",
    "grid_search_knn_clf = KNeighborsClassifier()\n",
    "\n",
    "param_grid = [\n",
    "    {\n",
    "        'n_neighbors': [2,3,4,5,6],\n",
    "        'weights': ['uniform'],\n",
    "        'algorithm': ['auto', 'ball_tree'],\n",
    "        'leaf_size': [10,20,25,30,35,40]\n",
    "    },\n",
    "    {\n",
    "        'n_neighbors': [4,5,6],\n",
    "        'weights': ['distance'],\n",
    "        'algorithm': ['kd_tree', 'brute'],\n",
    "        'leaf_size': [30,35,40]\n",
    "    },\n",
    "\n",
    "]\n",
    "\n",
    "grid_search = GridSearchCV(grid_search_knn_clf, param_grid, cv=10, scoring=\"roc_auc\", return_train_score=True)\n",
    "\n",
    "grid_search.fit(X_train, y_train)\n",
    "\n"
   ],
   "metadata": {
    "collapsed": false,
    "pycharm": {
     "name": "#%%\n"
    }
   }
  },
  {
   "cell_type": "code",
   "execution_count": 47,
   "outputs": [
    {
     "data": {
      "text/plain": "{'algorithm': 'brute',\n 'leaf_size': 30,\n 'n_neighbors': 6,\n 'weights': 'distance'}"
     },
     "execution_count": 47,
     "metadata": {},
     "output_type": "execute_result"
    }
   ],
   "source": [
    "# best parameters to use for the KNN model\n",
    "grid_search.best_params_\n"
   ],
   "metadata": {
    "collapsed": false,
    "pycharm": {
     "name": "#%%\n"
    }
   }
  },
  {
   "cell_type": "code",
   "execution_count": 48,
   "outputs": [
    {
     "name": "stdout",
     "output_type": "stream",
     "text": [
      "model_name : Final K Nearest Neighbors\n",
      "accuracy : 0.9729760289461782\n",
      "precision : 0.9530063615842397\n",
      "recall : 0.9473684210526315\n",
      "f1 : 0.9501790281329924\n",
      "roc_auc_score : 0.9446380410691874\n"
     ]
    }
   ],
   "source": [
    "# training the final KNN model and looking at its scores\n",
    "final_model = grid_search.best_estimator_\n",
    "final_model_scores = train_model_for_scores(final_model,'Final K Nearest Neighbors', X_train, y_train)\n",
    "show_scores(final_model_scores)"
   ],
   "metadata": {
    "collapsed": false,
    "pycharm": {
     "name": "#%%\n"
    }
   }
  },
  {
   "cell_type": "code",
   "execution_count": 49,
   "outputs": [
    {
     "data": {
      "text/plain": "<sklearn.metrics._plot.confusion_matrix.ConfusionMatrixDisplay at 0x1e7db822d48>"
     },
     "execution_count": 49,
     "metadata": {},
     "output_type": "execute_result"
    },
    {
     "data": {
      "text/plain": "<Figure size 432x288 with 2 Axes>",
      "image/png": "[encoded data removed]"
     },
     "metadata": {
      "needs_background": "light"
     },
     "output_type": "display_data"
    }
   ],
   "source": [
    "from sklearn.metrics import plot_confusion_matrix\n",
    "plot_confusion_matrix(final_model,X_train,y_train)"
   ],
   "metadata": {
    "collapsed": false,
    "pycharm": {
     "name": "#%%\n"
    }
   }
  },
  {
   "cell_type": "code",
   "execution_count": 50,
   "outputs": [
    {
     "name": "stdout",
     "output_type": "stream",
     "text": [
      "model_name : Final K Nearest Neighbors\n",
      "accuracy : 0.9461781999095432\n",
      "precision : 0.914308176100629\n",
      "recall : 0.9266932270916335\n",
      "f1 : 0.9204590423426988\n",
      "roc_auc_score : 0.9063382453449799\n"
     ]
    }
   ],
   "source": [
    "# getting scores from model from the test set\n",
    "X_test = test_set.drop(\"Result\", 1)\n",
    "y_test = test_set[\"Result\"].copy()\n",
    "\n",
    "final_model_test_scores = get_model_scores(final_model,\"Final K Nearest Neighbors\" , X_test, y_test)\n",
    "show_scores(final_model_test_scores)"
   ],
   "metadata": {
    "collapsed": false,
    "pycharm": {
     "name": "#%%\n"
    }
   }
  },
  {
   "cell_type": "code",
   "execution_count": 51,
   "outputs": [],
   "source": [
    "#saving the model\n",
    "import pickle\n",
    "\n",
    "model_name = 'phishing_site_detector.sav'\n",
    "pickle.dump(final_model, open(model_name, 'wb'))"
   ],
   "metadata": {
    "collapsed": false,
    "pycharm": {
     "name": "#%%\n"
    }
   }
  },
  {
   "cell_type": "code",
   "execution_count": 52,
   "outputs": [],
   "source": [
    "# saving the grid search results\n",
    "grid_search_name = 'knn_grid_search.sav'\n",
    "pickle.dump(grid_search, open(grid_search_name, 'wb'))\n",
    "\n",
    "\n",
    "\n"
   ],
   "metadata": {
    "collapsed": false,
    "pycharm": {
     "name": "#%%\n"
    }
   }
  }
 ],
 "metadata": {
  "kernelspec": {
   "display_name": "Python 3",
   "language": "python",
   "name": "python3"
  },
  "language_info": {
   "codemirror_mode": {
    "name": "ipython",
    "version": 2
   },
   "file_extension": ".py",
   "mimetype": "text/x-python",
   "name": "python",
   "nbconvert_exporter": "python",
   "pygments_lexer": "ipython2",
   "version": "2.7.6"
  }
 },
 "nbformat": 4,
 "nbformat_minor": 0
}